{
 "cells": [
  {
   "cell_type": "code",
   "execution_count": 47,
   "metadata": {},
   "outputs": [],
   "source": [
    "import pandas as pd\n",
    "import numpy as np\n",
    "from scipy import stats\n",
    "import matplotlib.pyplot as plt\n",
    "%matplotlib inline\n",
    "import warnings\n",
    "warnings.filterwarnings('ignore')\n",
    "import seaborn as sns"
   ]
  },
  {
   "cell_type": "code",
   "execution_count": 48,
   "metadata": {},
   "outputs": [],
   "source": [
    "df = pd.read_csv('combined_df.csv')"
   ]
  },
  {
   "cell_type": "code",
   "execution_count": 49,
   "metadata": {},
   "outputs": [
    {
     "data": {
      "text/plain": [
       "0       24.0\n",
       "1       48.0\n",
       "2       52.0\n",
       "3       32.0\n",
       "4       58.0\n",
       "        ... \n",
       "1583    70.0\n",
       "1584    89.0\n",
       "1585    61.0\n",
       "1586    87.0\n",
       "1587    89.0\n",
       "Name: percentLowIncome, Length: 1588, dtype: float64"
      ]
     },
     "execution_count": 49,
     "metadata": {},
     "output_type": "execute_result"
    }
   ],
   "source": [
    "df['percentLowIncome']"
   ]
  },
  {
   "cell_type": "code",
   "execution_count": 50,
   "metadata": {},
   "outputs": [
    {
     "name": "stdout",
     "output_type": "stream",
     "text": [
      "<class 'pandas.core.frame.DataFrame'>\n",
      "RangeIndex: 1588 entries, 0 to 1587\n",
      "Data columns (total 59 columns):\n",
      " #   Column                               Non-Null Count  Dtype  \n",
      "---  ------                               --------------  -----  \n",
      " 0   Unnamed: 0                           1588 non-null   int64  \n",
      " 1   id                                   1588 non-null   int64  \n",
      " 2   districtId                           1588 non-null   int64  \n",
      " 3   districtName                         1588 non-null   object \n",
      " 4   districtCity                         1588 non-null   object \n",
      " 5   levelCode                            1588 non-null   object \n",
      " 6   name                                 1588 non-null   object \n",
      " 7   gradeLevels                          1588 non-null   object \n",
      " 8   address_zip                          1588 non-null   int64  \n",
      " 9   csaAwardYears                        1370 non-null   object \n",
      " 10  rating                               1588 non-null   int64  \n",
      " 11  ratingScale                          1588 non-null   object \n",
      " 12  schoolType                           1588 non-null   object \n",
      " 13  state                                1588 non-null   object \n",
      " 14  type                                 1588 non-null   object \n",
      " 15  links_profile                        1588 non-null   object \n",
      " 16  links_reviews                        1588 non-null   object \n",
      " 17  links_collegeSuccess                 1588 non-null   object \n",
      " 18  percentLowIncome                     1588 non-null   float64\n",
      " 19  collegePersistentData                1588 non-null   object \n",
      " 20  collegeEnrollmentData                353 non-null    object \n",
      " 21  enrollment                           1588 non-null   int64  \n",
      " 22  parentRating                         1588 non-null   int64  \n",
      " 23  numReviews                           1588 non-null   int64  \n",
      " 24  subratings_Test Scores Rating        1545 non-null   float64\n",
      " 25  subratings_Student Progress Rating   1542 non-null   float64\n",
      " 26  ethnicityInfo_0_label                1588 non-null   object \n",
      " 27  ethnicityInfo_0_rating               1457 non-null   float64\n",
      " 28  ethnicityInfo_0_percentage           1588 non-null   int64  \n",
      " 29  ethnicityInfo_1_label                1588 non-null   object \n",
      " 30  ethnicityInfo_1_rating               1545 non-null   float64\n",
      " 31  ethnicityInfo_2_label                1583 non-null   object \n",
      " 32  ethnicityInfo_2_rating               1498 non-null   float64\n",
      " 33  ethnicityInfo_2_percentage           1583 non-null   float64\n",
      " 34  ethnicityInfo_3_label                1550 non-null   object \n",
      " 35  ethnicityInfo_3_percentage           1550 non-null   float64\n",
      " 36  ethnicityInfo_4_label                1456 non-null   object \n",
      " 37  ethnicityInfo_4_percentage           1456 non-null   float64\n",
      " 38  ethnicityInfo_5_label                1260 non-null   object \n",
      " 39  ethnicityInfo_5_percentage           1260 non-null   float64\n",
      " 40  remediationData                      1588 non-null   object \n",
      " 41  studentsPerTeacher                   1554 non-null   float64\n",
      " 42  subratings_College Readiness Rating  1491 non-null   float64\n",
      " 43  collegeEnrollmentData_school_value   1235 non-null   float64\n",
      " 44  collegeEnrollmentData_state_average  1235 non-null   float64\n",
      " 45  subratings_Equity Overview Rating    1464 non-null   float64\n",
      " 46  ethnicityInfo_3_rating               1005 non-null   float64\n",
      " 47  ethnicityInfo_6_label                884 non-null    object \n",
      " 48  ethnicityInfo_6_percentage           884 non-null    float64\n",
      " 49  ethnicityInfo_7_label                277 non-null    object \n",
      " 50  ethnicityInfo_7_percentage           277 non-null    float64\n",
      " 51  ethnicityInfo_4_rating               513 non-null    float64\n",
      " 52  csaAwardYears_0                      218 non-null    float64\n",
      " 53  ethnicityInfo_1_percentage           43 non-null     float64\n",
      " 54  ethnicityInfo_5_rating               249 non-null    float64\n",
      " 55  ethnicityInfo_6_rating               107 non-null    float64\n",
      " 56  ethnicityInfo_8_label                23 non-null     object \n",
      " 57  ethnicityInfo_8_percentage           23 non-null     float64\n",
      " 58  ethnicityInfo_7_rating               1 non-null      float64\n",
      "dtypes: float64(25), int64(9), object(25)\n",
      "memory usage: 732.1+ KB\n"
     ]
    }
   ],
   "source": [
    "df.info()"
   ]
  },
  {
   "cell_type": "markdown",
   "metadata": {},
   "source": [
    "Null: There is no difference in test score ratings by low income rates\n",
    "Null: There is no difference in low income rates by test score ratings\n",
    "Alternative: There is a difference in test score ratings by low income rates\n",
    "Alternative: There is no difference in low income rates by test score ratings\n",
    "\n",
    "Null: There is no difference in test scores in schools with majority low income rates\n",
    "Alternative: There is a difference in test scores in schools with majority low income rates\n",
    "\n",
    "We will divide majority low income rates as schools with 50% or higher low income rates."
   ]
  },
  {
   "cell_type": "code",
   "execution_count": 51,
   "metadata": {},
   "outputs": [],
   "source": [
    "df_majority_li = df[df['percentLowIncome'] >= 50.0]\n",
    "df_minority_li = df[df['percentLowIncome'] < 50.0]"
   ]
  },
  {
   "cell_type": "code",
   "execution_count": 52,
   "metadata": {},
   "outputs": [
    {
     "data": {
      "text/plain": [
       "1588"
      ]
     },
     "execution_count": 52,
     "metadata": {},
     "output_type": "execute_result"
    }
   ],
   "source": [
    "# Confirm the data has been split\n",
    "len(df_majority_li) + len(df_minority_li)"
   ]
  },
  {
   "cell_type": "code",
   "execution_count": 53,
   "metadata": {},
   "outputs": [],
   "source": [
    "# TO DO: Test score ratings: Majority low income vs Minority low income: Create stacked histogram\n",
    "\n"
   ]
  },
  {
   "cell_type": "code",
   "execution_count": 55,
   "metadata": {},
   "outputs": [],
   "source": [
    "# Welch's T Test"
   ]
  },
  {
   "cell_type": "code",
   "execution_count": 56,
   "metadata": {},
   "outputs": [
    {
     "name": "stdout",
     "output_type": "stream",
     "text": [
      "Majority Low Income: Mean = 4.39224629418472 , Standard Deviation = 1.9026139417695984\n",
      "Minority Low Income: Mean = 6.56437125748503 , Standard Deviation = 1.6583042746608758\n"
     ]
    }
   ],
   "source": [
    "# Print mean and standard deviations of test score ratings for majority and minority low income groups\n",
    "print('Majority Low Income: Mean = {}'.format(df_majority_li['subratings_Test Scores Rating'].mean()),\n",
    "     ', Standard Deviation = {}'.format(df_majority_li['subratings_Test Scores Rating'].std()))\n",
    "\n",
    "print('Minority Low Income: Mean = {}'.format(df_minority_li['subratings_Test Scores Rating'].mean()),\n",
    "     ', Standard Deviation = {}'.format(df_minority_li['subratings_Test Scores Rating'].std()))"
   ]
  },
  {
   "cell_type": "markdown",
   "metadata": {},
   "source": [
    "We are trying to conclude if either schools with majority poverty rates or minority poverty rates have better test scores.\n",
    "\n",
    "We will set the significance value at 0.05"
   ]
  },
  {
   "cell_type": "code",
   "execution_count": 64,
   "metadata": {},
   "outputs": [
    {
     "name": "stdout",
     "output_type": "stream",
     "text": [
      "P-value: 1.4755271661432127e-107: Reject H0\n",
      "-23.922479172702804\n"
     ]
    }
   ],
   "source": [
    "# Welch's T Test\n",
    "alpha = 0.05\n",
    "stat, p = stats.ttest_ind(df_majority_li['subratings_Test Scores Rating'], \n",
    "                          df_minority_li['subratings_Test Scores Rating'], nan_policy='omit', equal_var=False)\n",
    "if p > alpha:\n",
    "    print('P-value: {}: Fail to reject H0'.format(p))\n",
    "    print(stat)\n",
    "else:\n",
    "    print('P-value: {}: Reject H0'.format(p))\n",
    "    print(stat)"
   ]
  },
  {
   "cell_type": "code",
   "execution_count": 58,
   "metadata": {},
   "outputs": [
    {
     "data": {
      "text/plain": [
       "count    877.000000\n",
       "mean       4.392246\n",
       "std        1.902614\n",
       "min        1.000000\n",
       "25%        3.000000\n",
       "50%        4.000000\n",
       "75%        5.000000\n",
       "max       10.000000\n",
       "Name: subratings_Test Scores Rating, dtype: float64"
      ]
     },
     "execution_count": 58,
     "metadata": {},
     "output_type": "execute_result"
    }
   ],
   "source": [
    "df_majority_li['subratings_Test Scores Rating'].describe()"
   ]
  },
  {
   "cell_type": "code",
   "execution_count": 59,
   "metadata": {},
   "outputs": [
    {
     "data": {
      "text/plain": [
       "count    668.000000\n",
       "mean       6.564371\n",
       "std        1.658304\n",
       "min        1.000000\n",
       "25%        5.000000\n",
       "50%        7.000000\n",
       "75%        8.000000\n",
       "max       10.000000\n",
       "Name: subratings_Test Scores Rating, dtype: float64"
      ]
     },
     "execution_count": 59,
     "metadata": {},
     "output_type": "execute_result"
    }
   ],
   "source": [
    "df_minority_li['subratings_Test Scores Rating'].describe()"
   ]
  },
  {
   "cell_type": "markdown",
   "metadata": {},
   "source": [
    "The results of the Welch's T test tells us that the mean test score rating distributions of minority low income schools and majority low income schools are not equal."
   ]
  },
  {
   "cell_type": "code",
   "execution_count": 60,
   "metadata": {},
   "outputs": [],
   "source": [
    "def welch_test_statistic(sample_1, sample_2):\n",
    "    numerator = np.mean(sample_1) - np.mean(sample_2)\n",
    "    denominator_sq = (np.var(sample_1) / len(sample_1)) + \\\n",
    "                        (np.var(sample_2) / len(sample_2))\n",
    "    return numerator / np.sqrt(denominator_sq)"
   ]
  },
  {
   "cell_type": "code",
   "execution_count": 63,
   "metadata": {},
   "outputs": [
    {
     "data": {
      "text/plain": [
       "24.247274636949367"
      ]
     },
     "execution_count": 63,
     "metadata": {},
     "output_type": "execute_result"
    }
   ],
   "source": [
    "welch_test_statistic(df_minority_li['subratings_Test Scores Rating'], df_majority_li['subratings_Test Scores Rating'])"
   ]
  },
  {
   "cell_type": "code",
   "execution_count": null,
   "metadata": {},
   "outputs": [],
   "source": []
  }
 ],
 "metadata": {
  "kernelspec": {
   "display_name": "Python 3",
   "language": "python",
   "name": "python3"
  },
  "language_info": {
   "codemirror_mode": {
    "name": "ipython",
    "version": 3
   },
   "file_extension": ".py",
   "mimetype": "text/x-python",
   "name": "python",
   "nbconvert_exporter": "python",
   "pygments_lexer": "ipython3",
   "version": "3.7.7"
  }
 },
 "nbformat": 4,
 "nbformat_minor": 4
}
