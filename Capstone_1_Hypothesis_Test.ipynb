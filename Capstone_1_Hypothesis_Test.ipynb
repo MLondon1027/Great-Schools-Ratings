{
 "cells": [
  {
   "cell_type": "code",
   "execution_count": 15,
   "metadata": {},
   "outputs": [],
   "source": [
    "import pandas as pd\n",
    "import numpy as np\n",
    "from scipy import stats\n",
    "import matplotlib.pyplot as plt\n",
    "%matplotlib inline\n",
    "import warnings\n",
    "warnings.filterwarnings('ignore')\n",
    "import seaborn as sns"
   ]
  },
  {
   "cell_type": "code",
   "execution_count": 3,
   "metadata": {},
   "outputs": [],
   "source": [
    "df = pd.read_csv('combined_df.csv')"
   ]
  },
  {
   "cell_type": "code",
   "execution_count": 8,
   "metadata": {},
   "outputs": [
    {
     "data": {
      "text/plain": [
       "0       24.0\n",
       "1       48.0\n",
       "2       52.0\n",
       "3       32.0\n",
       "4       58.0\n",
       "        ... \n",
       "2651    70.0\n",
       "2652    89.0\n",
       "2653    61.0\n",
       "2654    87.0\n",
       "2655    89.0\n",
       "Name: percentLowIncome, Length: 2656, dtype: float64"
      ]
     },
     "execution_count": 8,
     "metadata": {},
     "output_type": "execute_result"
    }
   ],
   "source": [
    "df['percentLowIncome']"
   ]
  },
  {
   "cell_type": "code",
   "execution_count": 6,
   "metadata": {},
   "outputs": [
    {
     "name": "stdout",
     "output_type": "stream",
     "text": [
      "<class 'pandas.core.frame.DataFrame'>\n",
      "RangeIndex: 2656 entries, 0 to 2655\n",
      "Data columns (total 59 columns):\n",
      " #   Column                               Non-Null Count  Dtype  \n",
      "---  ------                               --------------  -----  \n",
      " 0   Unnamed: 0                           2656 non-null   int64  \n",
      " 1   Unnamed: 0.1                         2656 non-null   int64  \n",
      " 2   id                                   2656 non-null   int64  \n",
      " 3   districtId                           2656 non-null   int64  \n",
      " 4   districtName                         2656 non-null   object \n",
      " 5   districtCity                         2656 non-null   object \n",
      " 6   levelCode                            2656 non-null   object \n",
      " 7   name                                 2656 non-null   object \n",
      " 8   gradeLevels                          2656 non-null   object \n",
      " 9   csaAwardYears                        2281 non-null   object \n",
      " 10  rating                               2656 non-null   int64  \n",
      " 11  ratingScale                          2656 non-null   object \n",
      " 12  schoolType                           2656 non-null   object \n",
      " 13  state                                2656 non-null   object \n",
      " 14  type                                 2656 non-null   object \n",
      " 15  links_profile                        2656 non-null   object \n",
      " 16  links_reviews                        2656 non-null   object \n",
      " 17  links_collegeSuccess                 2656 non-null   object \n",
      " 18  percentLowIncome                     2656 non-null   float64\n",
      " 19  collegePersistentData                2656 non-null   object \n",
      " 20  collegeEnrollmentData                599 non-null    object \n",
      " 21  enrollment                           2656 non-null   int64  \n",
      " 22  parentRating                         2656 non-null   int64  \n",
      " 23  numReviews                           2656 non-null   int64  \n",
      " 24  subratings_Test Scores Rating        2585 non-null   float64\n",
      " 25  subratings_Student Progress Rating   2577 non-null   float64\n",
      " 26  ethnicityInfo_0_label                2656 non-null   object \n",
      " 27  ethnicityInfo_0_rating               2432 non-null   float64\n",
      " 28  ethnicityInfo_0_percentage           2656 non-null   int64  \n",
      " 29  ethnicityInfo_1_label                2656 non-null   object \n",
      " 30  ethnicityInfo_1_rating               2585 non-null   float64\n",
      " 31  ethnicityInfo_2_label                2651 non-null   object \n",
      " 32  ethnicityInfo_2_rating               2476 non-null   float64\n",
      " 33  ethnicityInfo_2_percentage           2651 non-null   float64\n",
      " 34  ethnicityInfo_3_label                2616 non-null   object \n",
      " 35  ethnicityInfo_3_percentage           2616 non-null   float64\n",
      " 36  ethnicityInfo_4_label                2484 non-null   object \n",
      " 37  ethnicityInfo_4_percentage           2484 non-null   float64\n",
      " 38  ethnicityInfo_5_label                2153 non-null   object \n",
      " 39  ethnicityInfo_5_percentage           2153 non-null   float64\n",
      " 40  remediationData                      2656 non-null   object \n",
      " 41  studentsPerTeacher                   2600 non-null   float64\n",
      " 42  subratings_College Readiness Rating  2469 non-null   float64\n",
      " 43  collegeEnrollmentData_school_value   2057 non-null   float64\n",
      " 44  collegeEnrollmentData_state_average  2057 non-null   float64\n",
      " 45  subratings_Equity Overview Rating    2453 non-null   float64\n",
      " 46  ethnicityInfo_3_rating               1675 non-null   float64\n",
      " 47  ethnicityInfo_6_label                1525 non-null   object \n",
      " 48  ethnicityInfo_6_percentage           1525 non-null   float64\n",
      " 49  ethnicityInfo_7_label                503 non-null    object \n",
      " 50  ethnicityInfo_7_percentage           503 non-null    float64\n",
      " 51  ethnicityInfo_4_rating               885 non-null    float64\n",
      " 52  csaAwardYears_0                      375 non-null    float64\n",
      " 53  ethnicityInfo_1_percentage           71 non-null     float64\n",
      " 54  ethnicityInfo_5_rating               443 non-null    float64\n",
      " 55  ethnicityInfo_6_rating               199 non-null    float64\n",
      " 56  ethnicityInfo_8_label                33 non-null     object \n",
      " 57  ethnicityInfo_8_percentage           33 non-null     float64\n",
      " 58  ethnicityInfo_7_rating               1 non-null      float64\n",
      "dtypes: float64(25), int64(9), object(25)\n",
      "memory usage: 1.2+ MB\n"
     ]
    }
   ],
   "source": [
    "df.info()"
   ]
  },
  {
   "cell_type": "markdown",
   "metadata": {},
   "source": [
    "Null: There is no difference in test score ratings by low income rates\n",
    "Null: There is no difference in low income rates by test score ratings\n",
    "Alternative: There is a difference in test score ratings by low income rates\n",
    "Alternative: There is no difference in low income rates by test score ratings\n",
    "\n",
    "Null: There is no difference in test scores in schools with majority low income rates\n",
    "Alternative: There is a difference in test scores in schools with majority low income rates\n",
    "\n",
    "We will divide majority low income rates as schools with 50% or higher low income rates."
   ]
  },
  {
   "cell_type": "code",
   "execution_count": 9,
   "metadata": {},
   "outputs": [],
   "source": [
    "df_majority_li = df[df['percentLowIncome'] >= 50.0]\n",
    "df_minority_li = df[df['percentLowIncome'] < 50.0]"
   ]
  },
  {
   "cell_type": "code",
   "execution_count": 10,
   "metadata": {},
   "outputs": [
    {
     "data": {
      "text/plain": [
       "2656"
      ]
     },
     "execution_count": 10,
     "metadata": {},
     "output_type": "execute_result"
    }
   ],
   "source": [
    "# Confirm the data has been split\n",
    "len(df_majority_li) + len(df_minority_li)"
   ]
  },
  {
   "cell_type": "code",
   "execution_count": 18,
   "metadata": {},
   "outputs": [],
   "source": [
    "# TO DO: Test score ratings: Majority low income vs Minority low income: Create stacked histogram\n",
    "\n"
   ]
  },
  {
   "cell_type": "code",
   "execution_count": null,
   "metadata": {},
   "outputs": [],
   "source": []
  },
  {
   "cell_type": "code",
   "execution_count": 27,
   "metadata": {},
   "outputs": [
    {
     "name": "stdout",
     "output_type": "stream",
     "text": [
      "Majority Low Income: Mean = 4.451807228915663 , Standard Deviation = 1.9621382940176857\n",
      "Minority Low Income: Mean = 6.517873510540788 , Standard Deviation = 1.6618773143162306\n"
     ]
    }
   ],
   "source": [
    "# Print mean and standard deviations of test score ratings for majority and minority low income groups\n",
    "print('Majority Low Income: Mean = {}'.format(df_majority_li['subratings_Test Scores Rating'].mean()),\n",
    "     ', Standard Deviation = {}'.format(df_majority_li['subratings_Test Scores Rating'].std()))\n",
    "\n",
    "print('Minority Low Income: Mean = {}'.format(df_minority_li['subratings_Test Scores Rating'].mean()),\n",
    "     ', Standard Deviation = {}'.format(df_minority_li['subratings_Test Scores Rating'].std()))"
   ]
  },
  {
   "cell_type": "code",
   "execution_count": null,
   "metadata": {},
   "outputs": [],
   "source": []
  }
 ],
 "metadata": {
  "kernelspec": {
   "display_name": "Python 3",
   "language": "python",
   "name": "python3"
  },
  "language_info": {
   "codemirror_mode": {
    "name": "ipython",
    "version": 3
   },
   "file_extension": ".py",
   "mimetype": "text/x-python",
   "name": "python",
   "nbconvert_exporter": "python",
   "pygments_lexer": "ipython3",
   "version": "3.7.7"
  }
 },
 "nbformat": 4,
 "nbformat_minor": 4
}
